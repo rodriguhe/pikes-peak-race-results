{
 "cells": [
  {
   "cell_type": "code",
   "execution_count": 1,
   "metadata": {},
   "outputs": [],
   "source": [
    "%matplotlib inline\n",
    "import numpy as np\n",
    "import pandas as pd\n",
    "import matplotlib.pyplot as plt\n",
    "import re\n",
    "from scipy import stats"
   ]
  },
  {
   "cell_type": "code",
   "execution_count": 2,
   "metadata": {},
   "outputs": [],
   "source": [
    "# import data\n",
    "\n",
    "dataFemales = pd.read_csv('MA_Exer_PikesPeak_Females.txt',delimiter='\\t',encoding='latin-1')\n",
    "dataMales = pd.read_csv('MA_Exer_PikesPeak_Males.txt',delimiter='\\t',encoding='latin-1')"
   ]
  },
  {
   "cell_type": "code",
   "execution_count": 3,
   "metadata": {},
   "outputs": [],
   "source": [
    "# parse race times and convert to float\n",
    "\n",
    "time = re.compile(r'[A-Z]?\\s*(1)?:?([0-5][0-9]):([0-5][0-9])')\n",
    "\n",
    "def toMinutes(timeList):\n",
    "    hours = []\n",
    "    minutes = []\n",
    "    seconds = []\n",
    "    # separate race time string into hours, minutes, and seconds string lists\n",
    "    for i in list(timeList):\n",
    "        m = time.match(i)\n",
    "        hours.append(m.group(1))\n",
    "        minutes.append(m.group(2))\n",
    "        seconds.append(m.group(3))\n",
    "    # convert string lists into floats\n",
    "    minutes = [float(i) for i in minutes]\n",
    "    seconds = [float(i) for i in seconds]\n",
    "    hours = [float(i or 0) for i in hours]\n",
    "    timeFloat = []\n",
    "    # convert hours, minutes, seconds to only minutes float\n",
    "    for i in range(0,len(minutes)):\n",
    "        totalTime = (60*hours[i] + minutes[i] + seconds[i]/60)\n",
    "        timeFloat.append(totalTime)\n",
    "    return timeFloat"
   ]
  },
  {
   "cell_type": "code",
   "execution_count": null,
   "metadata": {},
   "outputs": [],
   "source": [
    "# convert minutes back to a time string\n",
    "\n",
    "def toRaceString(minutesFloat):\n",
    "    if minutesFloat >= 60:\n",
    "        h = str(int(minutesFloat//60))\n",
    "        m = format(int(minutesFloat-60*int(h)),'02')\n",
    "        s = format(int((minutesFloat - int(minutesFloat))*60),'02')\n",
    "        return(h+':'+m+':'+s)\n",
    "    else:\n",
    "        m = format(int(minutesFloat),'02')\n",
    "        s = format(int((minutesFloat - int(minutesFloat))*60),'02')\n",
    "        return(m+':'+s)"
   ]
  },
  {
   "cell_type": "code",
   "execution_count": 4,
   "metadata": {},
   "outputs": [],
   "source": [
    "# convert to numpy array\n",
    "\n",
    "femaleGunTimes = np.array(toMinutes(dataFemales['Gun Tim']))\n",
    "maleGunTimes = np.array(toMinutes(dataMales['Gun Tim']))\n",
    "femaleNetTimes = np.array(toMinutes(dataFemales['Net Tim']))\n",
    "maleNetTimes = np.array(toMinutes(dataMales['Net Tim']))"
   ]
  },
  {
   "cell_type": "code",
   "execution_count": 6,
   "metadata": {},
   "outputs": [
    {
     "data": {
      "text/html": [
       "<div>\n",
       "<style>\n",
       "    .dataframe thead tr:only-child th {\n",
       "        text-align: right;\n",
       "    }\n",
       "\n",
       "    .dataframe thead th {\n",
       "        text-align: left;\n",
       "    }\n",
       "\n",
       "    .dataframe tbody tr th {\n",
       "        vertical-align: top;\n",
       "    }\n",
       "</style>\n",
       "<table border=\"1\" class=\"dataframe\">\n",
       "  <thead>\n",
       "    <tr style=\"text-align: right;\">\n",
       "      <th></th>\n",
       "      <th>Place</th>\n",
       "      <th>Div/Tot</th>\n",
       "      <th>Num</th>\n",
       "      <th>Name</th>\n",
       "      <th>Ag</th>\n",
       "      <th>Hometown</th>\n",
       "      <th>Gun Tim</th>\n",
       "      <th>Net Tim</th>\n",
       "      <th>Pace</th>\n",
       "    </tr>\n",
       "  </thead>\n",
       "  <tbody>\n",
       "    <tr>\n",
       "      <th>534</th>\n",
       "      <td>535</td>\n",
       "      <td>108/214</td>\n",
       "      <td>2869</td>\n",
       "      <td>Chris Doe</td>\n",
       "      <td>44.0</td>\n",
       "      <td>Reson VA</td>\n",
       "      <td>53:07</td>\n",
       "      <td>49:43</td>\n",
       "      <td>8:00</td>\n",
       "    </tr>\n",
       "  </tbody>\n",
       "</table>\n",
       "</div>"
      ],
      "text/plain": [
       "     Place  Div/Tot   Num       Name    Ag  Hometown Gun Tim Net Tim  Pace\n",
       "534    535  108/214  2869  Chris Doe  44.0  Reson VA   53:07   49:43  8:00"
      ]
     },
     "execution_count": 6,
     "metadata": {},
     "output_type": "execute_result"
    }
   ],
   "source": [
    "dataMales.loc[dataMales['Name'] == 'Chris Doe']"
   ]
  },
  {
   "cell_type": "code",
   "execution_count": 32,
   "metadata": {},
   "outputs": [
    {
     "data": {
      "text/plain": [
       "(415, 9)"
      ]
     },
     "execution_count": 32,
     "metadata": {},
     "output_type": "execute_result"
    }
   ],
   "source": [
    "div4049 = dataMales.loc[(dataMales['Ag'] >= 40) & (dataMales['Ag'] <=49)]\n",
    "div4049.shape"
   ]
  },
  {
   "cell_type": "code",
   "execution_count": 42,
   "metadata": {},
   "outputs": [],
   "source": [
    "percentileTop10 = np.mean(toMinutes(div4049['Net Tim'])[40:42])"
   ]
  },
  {
   "cell_type": "code",
   "execution_count": 41,
   "metadata": {},
   "outputs": [],
   "source": [
    "chrisDoe = 49 + 43/60"
   ]
  },
  {
   "cell_type": "code",
   "execution_count": 43,
   "metadata": {},
   "outputs": [
    {
     "data": {
      "text/plain": [
       "8.208333333333336"
      ]
     },
     "execution_count": 43,
     "metadata": {},
     "output_type": "execute_result"
    }
   ],
   "source": [
    "chrisDoe - percentileTop10"
   ]
  },
  {
   "cell_type": "code",
   "execution_count": null,
   "metadata": {},
   "outputs": [],
   "source": []
  }
 ],
 "metadata": {
  "kernelspec": {
   "display_name": "Python 3",
   "language": "python",
   "name": "python3"
  },
  "language_info": {
   "codemirror_mode": {
    "name": "ipython",
    "version": 3
   },
   "file_extension": ".py",
   "mimetype": "text/x-python",
   "name": "python",
   "nbconvert_exporter": "python",
   "pygments_lexer": "ipython3",
   "version": "3.6.6"
  }
 },
 "nbformat": 4,
 "nbformat_minor": 2
}
