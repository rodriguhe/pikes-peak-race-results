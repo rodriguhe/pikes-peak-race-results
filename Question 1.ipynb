{
 "cells": [
  {
   "cell_type": "code",
   "execution_count": 1,
   "metadata": {},
   "outputs": [],
   "source": [
    "%matplotlib inline\n",
    "import numpy as np\n",
    "import pandas as pd\n",
    "import matplotlib.pyplot as plt\n",
    "import re\n",
    "from scipy import stats"
   ]
  },
  {
   "cell_type": "code",
   "execution_count": 2,
   "metadata": {},
   "outputs": [],
   "source": [
    "# import data\n",
    "\n",
    "dataFemales = pd.read_csv('MA_Exer_PikesPeak_Females.txt',delimiter='\\t',encoding='latin-1')\n",
    "dataMales = pd.read_csv('MA_Exer_PikesPeak_Males.txt',delimiter='\\t',encoding='latin-1')"
   ]
  },
  {
   "cell_type": "code",
   "execution_count": 3,
   "metadata": {},
   "outputs": [],
   "source": [
    "# parse race times and convert to float\n",
    "\n",
    "time = re.compile(r'[A-Z]?\\s*(1)?:?([0-5][0-9]):([0-5][0-9])')\n",
    "\n",
    "def toMinutes(timeList):\n",
    "    hours = []\n",
    "    minutes = []\n",
    "    seconds = []\n",
    "    # separate race time string into hours, minutes, and seconds string lists\n",
    "    for i in list(timeList):\n",
    "        m = time.match(i)\n",
    "        hours.append(m.group(1))\n",
    "        minutes.append(m.group(2))\n",
    "        seconds.append(m.group(3))\n",
    "    # convert string lists into floats\n",
    "    minutes = [float(i) for i in minutes]\n",
    "    seconds = [float(i) for i in seconds]\n",
    "    hours = [float(i or 0) for i in hours]\n",
    "    timeFloat = []\n",
    "    # convert hours, minutes, seconds to only minutes float\n",
    "    for i in range(0,len(minutes)):\n",
    "        totalTime = (60*hours[i] + minutes[i] + seconds[i]/60)\n",
    "        timeFloat.append(totalTime)\n",
    "    return np.array(timeFloat)"
   ]
  },
  {
   "cell_type": "code",
   "execution_count": 4,
   "metadata": {},
   "outputs": [],
   "source": [
    "# convert minutes back to a time string\n",
    "\n",
    "def toRaceString(minutesFloat):\n",
    "    if minutesFloat >= 60:\n",
    "        h = str(int(minutesFloat//60))\n",
    "        m = format(int(minutesFloat-60*int(h)),'02')\n",
    "        s = format(int((minutesFloat - int(minutesFloat))*60),'02')\n",
    "        return(h+':'+m+':'+s)\n",
    "    else:\n",
    "        m = format(int(minutesFloat),'02')\n",
    "        s = format(int((minutesFloat - int(minutesFloat))*60),'02')\n",
    "        return(m+':'+s)"
   ]
  },
  {
   "cell_type": "code",
   "execution_count": 5,
   "metadata": {},
   "outputs": [],
   "source": [
    "# make a dataframe of mean, median, mode, and range by gender\n",
    "\n",
    "def raceStats(female,male):\n",
    "    raceStats = pd.DataFrame([])\n",
    "    raceStats['Gender'] = ['Female','Male']\n",
    "    raceStats['N'] = [len(female),len(male)]\n",
    "    raceStats['Mean'] = [toRaceString(np.mean(female)),toRaceString(np.mean(male))]\n",
    "    raceStats['Median'] = [toRaceString(np.median(female)),toRaceString(np.median(male))]\n",
    "    raceStats['Mode'] = [toRaceString(stats.mode(female)[0][0]),toRaceString(stats.mode(male)[0][0])]\n",
    "    raceStats['Range'] = [toRaceString(np.max(female)-np.min(female)),toRaceString(np.max(male)-np.min(male))]\n",
    "    return raceStats"
   ]
  },
  {
   "cell_type": "code",
   "execution_count": 6,
   "metadata": {},
   "outputs": [],
   "source": [
    "# convert time lists to arrays\n",
    "\n",
    "femaleNetTimes = toMinutes(dataFemales['Net Tim'])\n",
    "maleNetTimes = toMinutes(dataMales['Net Tim'])"
   ]
  },
  {
   "cell_type": "code",
   "execution_count": 7,
   "metadata": {},
   "outputs": [
    {
     "data": {
      "image/png": "[encoded data removed]",
      "text/plain": [
       "<Figure size 432x288 with 1 Axes>"
      ]
     },
     "metadata": {},
     "output_type": "display_data"
    },
    {
     "data": {
      "image/png": "[encoded data removed]",
      "text/plain": [
       "<Figure size 432x288 with 1 Axes>"
      ]
     },
     "metadata": {},
     "output_type": "display_data"
    }
   ],
   "source": [
    "# plot histograms of net times in minutes by gender\n",
    "\n",
    "plt.hist(femaleNetTimes,edgecolor='black')\n",
    "plt.title('Net Times Females')\n",
    "plt.xlabel('Difference (minutes)')\n",
    "plt.ylabel('Frequency')\n",
    "plt.show()\n",
    "\n",
    "plt.hist(maleNetTimes,edgecolor='black')\n",
    "plt.title('Net Times Males')\n",
    "plt.xlabel('Difference (minutes)')\n",
    "plt.ylabel('Frequency')\n",
    "plt.show()"
   ]
  },
  {
   "cell_type": "code",
   "execution_count": 8,
   "metadata": {},
   "outputs": [
    {
     "data": {
      "text/html": [
       "<div>\n",
       "<style>\n",
       "    .dataframe thead tr:only-child th {\n",
       "        text-align: right;\n",
       "    }\n",
       "\n",
       "    .dataframe thead th {\n",
       "        text-align: left;\n",
       "    }\n",
       "\n",
       "    .dataframe tbody tr th {\n",
       "        vertical-align: top;\n",
       "    }\n",
       "</style>\n",
       "<table border=\"1\" class=\"dataframe\">\n",
       "  <thead>\n",
       "    <tr style=\"text-align: right;\">\n",
       "      <th></th>\n",
       "      <th>Gender</th>\n",
       "      <th>N</th>\n",
       "      <th>Mean</th>\n",
       "      <th>Median</th>\n",
       "      <th>Mode</th>\n",
       "      <th>Range</th>\n",
       "    </tr>\n",
       "  </thead>\n",
       "  <tbody>\n",
       "    <tr>\n",
       "      <th>0</th>\n",
       "      <td>Female</td>\n",
       "      <td>1105</td>\n",
       "      <td>58:28</td>\n",
       "      <td>57:51</td>\n",
       "      <td>48:06</td>\n",
       "      <td>1:13:50</td>\n",
       "    </tr>\n",
       "    <tr>\n",
       "      <th>1</th>\n",
       "      <td>Male</td>\n",
       "      <td>1265</td>\n",
       "      <td>52:07</td>\n",
       "      <td>51:22</td>\n",
       "      <td>35:28</td>\n",
       "      <td>1:11:51</td>\n",
       "    </tr>\n",
       "  </tbody>\n",
       "</table>\n",
       "</div>"
      ],
      "text/plain": [
       "   Gender     N   Mean Median   Mode    Range\n",
       "0  Female  1105  58:28  57:51  48:06  1:13:50\n",
       "1    Male  1265  52:07  51:22  35:28  1:11:51"
      ]
     },
     "execution_count": 8,
     "metadata": {},
     "output_type": "execute_result"
    }
   ],
   "source": [
    "raceStats(femaleNetTimes,maleNetTimes)"
   ]
  },
  {
   "cell_type": "code",
   "execution_count": null,
   "metadata": {},
   "outputs": [],
   "source": []
  }
 ],
 "metadata": {
  "kernelspec": {
   "display_name": "Python 3",
   "language": "python",
   "name": "python3"
  },
  "language_info": {
   "codemirror_mode": {
    "name": "ipython",
    "version": 3
   },
   "file_extension": ".py",
   "mimetype": "text/x-python",
   "name": "python",
   "nbconvert_exporter": "python",
   "pygments_lexer": "ipython3",
   "version": "3.6.6"
  }
 },
 "nbformat": 4,
 "nbformat_minor": 2
}
