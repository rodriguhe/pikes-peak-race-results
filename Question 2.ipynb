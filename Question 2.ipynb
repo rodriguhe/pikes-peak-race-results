{
 "cells": [
  {
   "cell_type": "code",
   "execution_count": 2,
   "metadata": {},
   "outputs": [],
   "source": [
    "%matplotlib inline\n",
    "import numpy as np\n",
    "import pandas as pd\n",
    "import matplotlib.pyplot as plt\n",
    "import re\n",
    "from scipy import stats"
   ]
  },
  {
   "cell_type": "code",
   "execution_count": 3,
   "metadata": {},
   "outputs": [],
   "source": [
    "# import data\n",
    "\n",
    "dataFemales = pd.read_csv('MA_Exer_PikesPeak_Females.txt',delimiter='\\t',encoding='latin-1')\n",
    "dataMales = pd.read_csv('MA_Exer_PikesPeak_Males.txt',delimiter='\\t',encoding='latin-1')"
   ]
  },
  {
   "cell_type": "code",
   "execution_count": 4,
   "metadata": {},
   "outputs": [],
   "source": [
    "# parse race times and convert to float\n",
    "\n",
    "time = re.compile(r'[A-Z]?\\s*(1)?:?([0-5][0-9]):([0-5][0-9])')\n",
    "\n",
    "def toMinutes(timeList):\n",
    "    hours = []\n",
    "    minutes = []\n",
    "    seconds = []\n",
    "    # separate race time string into hours, minutes, and seconds string lists\n",
    "    for i in list(timeList):\n",
    "        m = time.match(i)\n",
    "        hours.append(m.group(1))\n",
    "        minutes.append(m.group(2))\n",
    "        seconds.append(m.group(3))\n",
    "    # convert string lists into floats\n",
    "    minutes = [float(i) for i in minutes]\n",
    "    seconds = [float(i) for i in seconds]\n",
    "    hours = [float(i or 0) for i in hours]\n",
    "    timeFloat = []\n",
    "    # convert hours, minutes, seconds to only minutes float\n",
    "    for i in range(0,len(minutes)):\n",
    "        totalTime = (60*hours[i] + minutes[i] + seconds[i]/60)\n",
    "        timeFloat.append(totalTime)\n",
    "    return timeFloat"
   ]
  },
  {
   "cell_type": "code",
   "execution_count": null,
   "metadata": {},
   "outputs": [],
   "source": [
    "# convert minutes back to a time string\n",
    "\n",
    "def toRaceString(minutesFloat):\n",
    "    if minutesFloat >= 60:\n",
    "        h = str(int(minutesFloat//60))\n",
    "        m = format(int(minutesFloat-60*int(h)),'02')\n",
    "        s = format(int((minutesFloat - int(minutesFloat))*60),'02')\n",
    "        return(h+':'+m+':'+s)\n",
    "    else:\n",
    "        m = format(int(minutesFloat),'02')\n",
    "        s = format(int((minutesFloat - int(minutesFloat))*60),'02')\n",
    "        return(m+':'+s)"
   ]
  },
  {
   "cell_type": "code",
   "execution_count": 5,
   "metadata": {},
   "outputs": [],
   "source": [
    "femaleGunTimes = np.array(toMinutes(dataFemales['Gun Tim']))\n",
    "maleGunTimes = np.array(toMinutes(dataMales['Gun Tim']))\n",
    "femaleNetTimes = np.array(toMinutes(dataFemales['Net Tim']))\n",
    "maleNetTimes = np.array(toMinutes(dataMales['Net Tim']))"
   ]
  },
  {
   "cell_type": "code",
   "execution_count": 6,
   "metadata": {},
   "outputs": [],
   "source": [
    "femaleDif = femaleGunTimes-femaleNetTimes\n",
    "maleDif = maleGunTimes-maleNetTimes"
   ]
  },
  {
   "cell_type": "code",
   "execution_count": 7,
   "metadata": {},
   "outputs": [
    {
     "data": {
      "image/png": "[encoded data removed]",
      "text/plain": [
       "<Figure size 432x288 with 1 Axes>"
      ]
     },
     "metadata": {},
     "output_type": "display_data"
    },
    {
     "data": {
      "image/png": "[encoded data removed]",
      "text/plain": [
       "<Figure size 432x288 with 1 Axes>"
      ]
     },
     "metadata": {},
     "output_type": "display_data"
    }
   ],
   "source": [
    "plt.hist(femaleDif,edgecolor='black')\n",
    "plt.title('Difference of Gun and Net Times Females')\n",
    "plt.xlabel('Difference (minutes)')\n",
    "plt.ylabel('Frequency')\n",
    "plt.show()\n",
    "\n",
    "plt.hist(maleDif,edgecolor='black')\n",
    "plt.title('Difference of Gun and Net Times Males')\n",
    "plt.xlabel('Difference (minutes)')\n",
    "plt.ylabel('Frequency')\n",
    "plt.show()"
   ]
  },
  {
   "cell_type": "markdown",
   "metadata": {},
   "source": [
    "Gun Time is defined as the elapsed time from the formal start of the race and when the racer crossed the finish line.\n",
    "Net Time is defined as the elapsed time from when the racer crossed the starting line and when the racer crossed the finish line. These have different times because not all racers can physically be line up together right at the starting line. Some racers will be behind others, the order usually determined by the racer's pace (faster to slower racers)."
   ]
  },
  {
   "cell_type": "markdown",
   "metadata": {},
   "source": [
    "How would age or pace affect the difference in gun and net time? As pace increases, gun - net should increase."
   ]
  },
  {
   "cell_type": "code",
   "execution_count": null,
   "metadata": {},
   "outputs": [],
   "source": []
  }
 ],
 "metadata": {
  "kernelspec": {
   "display_name": "Python 3",
   "language": "python",
   "name": "python3"
  },
  "language_info": {
   "codemirror_mode": {
    "name": "ipython",
    "version": 3
   },
   "file_extension": ".py",
   "mimetype": "text/x-python",
   "name": "python",
   "nbconvert_exporter": "python",
   "pygments_lexer": "ipython3",
   "version": "3.6.6"
  }
 },
 "nbformat": 4,
 "nbformat_minor": 2
}
